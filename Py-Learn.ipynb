{
 "cells": [
  {
   "cell_type": "code",
   "execution_count": 1,
   "id": "7d3918a7-0169-469a-a349-94475c8c2999",
   "metadata": {},
   "outputs": [
    {
     "name": "stdout",
     "output_type": "stream",
     "text": [
      "Hello world\n"
     ]
    }
   ],
   "source": [
    "print(\"Hello world\")"
   ]
  },
  {
   "cell_type": "code",
   "execution_count": 2,
   "id": "7b799043-fe9f-4ca8-b954-328f2b185fdd",
   "metadata": {},
   "outputs": [
    {
     "name": "stdout",
     "output_type": "stream",
     "text": [
      "3\n",
      "9.0\n",
      "True\n"
     ]
    }
   ],
   "source": [
    "# Variables\n",
    "a=3\n",
    "print(a)\n",
    "a=9.0\n",
    "print(a)\n",
    "c=True \n",
    "print(c)"
   ]
  },
  {
   "cell_type": "code",
   "execution_count": 3,
   "id": "e24e773f-f29e-467f-a648-644e1c590b24",
   "metadata": {},
   "outputs": [
    {
     "name": "stdout",
     "output_type": "stream",
     "text": [
      "num1 + num2 48\n",
      "num1 - num2 32\n",
      "num1 * num2 320\n",
      "num1 / num2 5.0\n",
      "num1 // num2 5\n",
      "num1 ** num2 6553600000000\n",
      "num1 % num2 0\n"
     ]
    }
   ],
   "source": [
    "#operator \n",
    "num1 = 40\n",
    "num2 = 8\n",
    "print(\"num1 + num2\", num1 + num2)\n",
    "print(\"num1 - num2\", num1 - num2)\n",
    "print(\"num1 * num2\", num1 * num2)\n",
    "print(\"num1 / num2\", num1 / num2)\n",
    "print(\"num1 // num2\", num1 // num2)\n",
    "print(\"num1 ** num2\", num1 ** num2)\n",
    "print(\"num1 % num2\", num1 % num2)"
   ]
  },
  {
   "cell_type": "code",
   "execution_count": 5,
   "id": "6b0ad14c-2af0-4b1f-846c-37f5745227d8",
   "metadata": {},
   "outputs": [
    {
     "name": "stdout",
     "output_type": "stream",
     "text": [
      "      label                                               text\n",
      "0       ham  Go until jurong point, crazy.. Available only ...\n",
      "1       ham                      Ok lar... Joking wif u oni...\n",
      "2      spam  Free entry in 2 a wkly comp to win FA Cup fina...\n",
      "3       ham  U dun say so early hor... U c already then say...\n",
      "4       ham  Nah I don't think he goes to usf, he lives aro...\n",
      "...     ...                                                ...\n",
      "16711  spam  C'est la 2ème fois que nous avons essayé 2 con...\n",
      "16712   ham        Est-ce que ü b ira à l'esplanade en maison?\n",
      "16713   ham  Dommage, * était d'humeur pour ça. Donc... d'a...\n",
      "16714   ham  Le type a fait une saloperie mais j'ai agi com...\n",
      "16715   ham                         Rofl. C'est vrai à son nom\n",
      "\n",
      "[16716 rows x 2 columns]\n"
     ]
    }
   ],
   "source": [
    "import pandas\n",
    "df=pandas.read_csv('Task1.csv')\n",
    "print(df)"
   ]
  },
  {
   "cell_type": "code",
   "execution_count": 8,
   "id": "de7b67c8-c04a-43c0-a17a-be78b8f471f8",
   "metadata": {},
   "outputs": [
    {
     "name": "stdout",
     "output_type": "stream",
     "text": [
      "Navdeep\n",
      "8\n",
      "NAVDEEP\n",
      "Navdeep\n",
      "2\n",
      "True\n",
      "True\n",
      "False\n"
     ]
    }
   ],
   "source": [
    "# String Operation\n",
    "name = \"Navdeep\"\n",
    "name1 = \"navdeep\"\n",
    "num = '8'\n",
    "print(name)\n",
    "print(num)\n",
    "print(name.upper())\n",
    "print(name1.capitalize())\n",
    "print(name.count('e'))\n",
    "print(name.isalnum())\n",
    "print(num.isnumeric())\n",
    "print(name.isnumeric())"
   ]
  },
  {
   "cell_type": "code",
   "execution_count": null,
   "id": "d3b458ec-ec43-4151-a734-dcd0ef07307b",
   "metadata": {},
   "outputs": [],
   "source": []
  }
 ],
 "metadata": {
  "kernelspec": {
   "display_name": "Python 3 (ipykernel)",
   "language": "python",
   "name": "python3"
  },
  "language_info": {
   "codemirror_mode": {
    "name": "ipython",
    "version": 3
   },
   "file_extension": ".py",
   "mimetype": "text/x-python",
   "name": "python",
   "nbconvert_exporter": "python",
   "pygments_lexer": "ipython3",
   "version": "3.10.0"
  }
 },
 "nbformat": 4,
 "nbformat_minor": 5
}
